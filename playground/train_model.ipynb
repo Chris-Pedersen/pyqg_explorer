{
 "cells": [
  {
   "cell_type": "code",
   "execution_count": null,
   "metadata": {},
   "outputs": [],
   "source": [
    "import fsspec\n",
    "import xarray as xr\n",
    "from torch.utils.data import DataLoader\n",
    "from torch.utils.data.sampler import SubsetRandomSampler\n",
    "import pytorch_lightning as pl\n",
    "import torch.nn as nn\n",
    "import torch\n",
    "\n",
    "import pyqg_explorer.dataset.forcing_dataset as forcing_dataset\n",
    "import pyqg_explorer.models.base_model as base_model"
   ]
  },
  {
   "cell_type": "code",
   "execution_count": null,
   "metadata": {},
   "outputs": [],
   "source": [
    "data_full=xr.open_zarr(fsspec.get_mapper(f'/scratch/zanna/data/pyqg/publication/eddy/forcing1.zarr'), consolidated=True)\n",
    "data_forcing=data_full.q_subgrid_forcing.isel(lev=1)\n",
    "data_forcing=data_forcing.stack(snapshot=(\"run\",\"time\"))\n",
    "data_forcing=data_forcing.transpose(\"snapshot\",\"y\",\"x\")\n",
    "data_forcing.isel(snapshot=54).plot()"
   ]
  },
  {
   "cell_type": "code",
   "execution_count": null,
   "metadata": {},
   "outputs": [],
   "source": [
    "data_q=data_full.q.isel(lev=1)\n",
    "data_q=data_q.stack(snapshot=(\"run\",\"time\"))\n",
    "data_q=data_q.transpose(\"snapshot\",\"y\",\"x\")\n",
    "data_q.isel(snapshot=54).plot()"
   ]
  },
  {
   "cell_type": "code",
   "execution_count": null,
   "metadata": {},
   "outputs": [],
   "source": [
    "dataset=forcing_dataset.ForcingDataset(data_q,data_forcing)"
   ]
  },
  {
   "cell_type": "code",
   "execution_count": null,
   "metadata": {},
   "outputs": [],
   "source": [
    "train_loader = DataLoader(\n",
    "    dataset,\n",
    "    batch_size=32,\n",
    "    sampler=SubsetRandomSampler(dataset.train_idx),\n",
    ")\n",
    "valid_loader = DataLoader(\n",
    "    dataset,\n",
    "    batch_size=32,\n",
    "    sampler=SubsetRandomSampler(dataset.valid_idx),\n",
    ")"
   ]
  },
  {
   "cell_type": "code",
   "execution_count": null,
   "metadata": {},
   "outputs": [],
   "source": [
    "data=next(iter(train_loader))"
   ]
  },
  {
   "cell_type": "code",
   "execution_count": null,
   "metadata": {},
   "outputs": [],
   "source": [
    "data[0].shape"
   ]
  },
  {
   "cell_type": "code",
   "execution_count": null,
   "metadata": {},
   "outputs": [],
   "source": [
    "model=base_model.AndrewCNN(1,1)"
   ]
  },
  {
   "cell_type": "code",
   "execution_count": null,
   "metadata": {},
   "outputs": [],
   "source": [
    "model(data[0]).shape"
   ]
  },
  {
   "cell_type": "code",
   "execution_count": null,
   "metadata": {},
   "outputs": [],
   "source": []
  }
 ],
 "metadata": {
  "kernelspec": {
   "display_name": "sing",
   "language": "python",
   "name": "sing"
  },
  "language_info": {
   "codemirror_mode": {
    "name": "ipython",
    "version": 3
   },
   "file_extension": ".py",
   "mimetype": "text/x-python",
   "name": "python",
   "nbconvert_exporter": "python",
   "pygments_lexer": "ipython3",
   "version": "3.9.12"
  }
 },
 "nbformat": 4,
 "nbformat_minor": 4
}
